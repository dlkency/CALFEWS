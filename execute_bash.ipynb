{
 "cells": [
  {
   "cell_type": "code",
   "execution_count": 2,
   "metadata": {},
   "outputs": [],
   "source": [
    "%load_ext cython"
   ]
  },
  {
   "cell_type": "code",
   "execution_count": 3,
   "metadata": {},
   "outputs": [],
   "source": [
    "\n",
    "\n",
    "%%cython\n",
    "import numpy as np\n",
    "import pandas as pd\n",
    "import matplotlib.pyplot as plt\n",
    "import os\n",
    "import shutil\n",
    "import sys\n",
    "from configobj import ConfigObj\n",
    "import json\n",
    "from distutils.util import strtobool\n",
    "import h5py\n",
    "from calfews_src.model_cy cimport Model\n",
    "from calfews_src.inputter_cy import Inputter\n",
    "from calfews_src.scenario import Scenario\n",
    "from calfews_src.util import *\n",
    "from calfews_src.plotter import *\n",
    "from calfews_src.visualizer import Visualizer\n",
    "from datetime import datetime\n",
    "import shutil"
   ]
  },
  {
   "cell_type": "code",
   "execution_count": 6,
   "metadata": {},
   "outputs": [],
   "source": [
    "\n",
    "\n",
    "# Copy the file\n",
    "shutil.copy('runtime_params_validation.ini', 'runtime_params.ini')\n",
    "\n",
    "# Read the file and replace text\n",
    "with open('runtime_params.ini', 'r') as file:\n",
    "    file_data = file.read()\n",
    "\n",
    "# Replace the target strings\n",
    "file_data = file_data.replace('\"validation\"', '\"simulation\"')\n",
    "file_data = file_data.replace('\"CDEC\"', '\"CDEC_1995_2023\"')\n",
    "\n",
    "# Write the changes back to the file\n",
    "with open('runtime_params.ini', 'w') as file:\n",
    "    file.write(file_data)\n",
    "output_folder = \"results/test_example/\"\n",
    "\n",
    "# Check if the folder exists and remove it\n",
    "if os.path.exists(output_folder):\n",
    "    shutil.rmtree(output_folder)"
   ]
  },
  {
   "cell_type": "code",
   "execution_count": 7,
   "metadata": {},
   "outputs": [
    {
     "name": "stdout",
     "output_type": "stream",
     "text": [
      "#######################################################\n",
      "Begin initialization...\n",
      "Initialization complete,  0:00:17.753601\n",
      "Begin simulation,  0:00:17.753601\n",
      "results/test_example/\n",
      "Year  1.0 ,  0:00:28.978245\n",
      "Year  2.0 ,  0:00:40.936838\n",
      "Year  3.0 ,  0:00:52.775927\n",
      "Year  4.0 ,  0:01:03.906981\n",
      "Year  5.0 ,  0:01:18.134443\n",
      "Year  6.0 ,  0:01:35.109873\n",
      "Year  7.0 ,  0:01:53.052951\n",
      "Year  8.0 ,  0:02:11.395787\n",
      "Year  9.0 ,  0:02:29.251288\n",
      "Year  10.0 ,  0:02:49.291300\n",
      "Year  11.0 ,  0:03:12.896433\n",
      "Year  12.0 ,  0:03:30.163807\n",
      "Year  13.0 ,  0:03:38.974448\n",
      "Year  14.0 ,  0:03:47.705046\n",
      "Year  15.0 ,  0:03:58.883384\n",
      "Year  16.0 ,  0:04:11.195618\n",
      "Year  17.0 ,  0:04:27.395052\n",
      "Year  18.0 ,  0:04:44.297436\n",
      "Year  19.0 ,  0:05:00.088974\n",
      "Year  20.0 ,  0:05:16.818180\n",
      "Year  21.0 ,  0:05:34.465458\n",
      "Year  22.0 ,  0:05:57.697472\n",
      "Year  23.0 ,  0:06:16.522446\n",
      "Year  24.0 ,  0:06:37.756866\n",
      "Year  25.0 ,  0:06:56.977933\n",
      "Year  26.0 ,  0:07:12.203500\n",
      "Year  27.0 ,  0:07:27.888282\n",
      "Year  28.0 ,  0:07:43.089627\n",
      "Simulation complete, 0:07:43.390947\n",
      "Objective calculation complete, 0:07:43.406036\n",
      "Data output complete, 0:07:50.751430\n"
     ]
    }
   ],
   "source": [
    "! python -W ignore run_main_cy.py $output_folder 1 1"
   ]
  }
 ],
 "metadata": {
  "kernelspec": {
   "display_name": ".venv_conda_calfews",
   "language": "python",
   "name": "python3"
  },
  "language_info": {
   "codemirror_mode": {
    "name": "ipython",
    "version": 3
   },
   "file_extension": ".py",
   "mimetype": "text/x-python",
   "name": "python",
   "nbconvert_exporter": "python",
   "pygments_lexer": "ipython3",
   "version": "3.7.1"
  }
 },
 "nbformat": 4,
 "nbformat_minor": 2
}
